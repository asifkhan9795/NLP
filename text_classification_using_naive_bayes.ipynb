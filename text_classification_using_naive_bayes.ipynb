{
  "metadata": {
    "kernelspec": {
      "language": "python",
      "display_name": "Python 3",
      "name": "python3"
    },
    "language_info": {
      "name": "python",
      "version": "3.7.10",
      "mimetype": "text/x-python",
      "codemirror_mode": {
        "name": "ipython",
        "version": 3
      },
      "pygments_lexer": "ipython3",
      "nbconvert_exporter": "python",
      "file_extension": ".py"
    },
    "colab": {
      "provenance": []
    }
  },
  "nbformat_minor": 0,
  "nbformat": 4,
  "cells": [
    {
      "cell_type": "code",
      "source": [
        "from itertools import chain\n",
        "\n",
        "import matplotlib.pyplot as plt\n",
        "\n",
        "import nltk\n",
        "nltk.download('stopwords', quiet=True)\n",
        "# nltk.download('punkt', quiet=True)\n",
        "from nltk.corpus import stopwords\n",
        "from nltk.tokenize import word_tokenize\n",
        "\n",
        "import numpy as np\n",
        "import pandas as pd\n",
        "import pickle\n",
        "import seaborn as sns\n",
        "\n",
        "from sklearn import feature_extraction\n",
        "from sklearn.metrics import confusion_matrix\n",
        "from sklearn import model_selection as ms\n",
        "from sklearn import naive_bayes\n",
        "from sklearn import preprocessing\n",
        "from sklearn.metrics import classification_report\n",
        "\n",
        "import string"
      ],
      "metadata": {
        "execution": {
          "iopub.status.busy": "2022-10-30T17:35:14.519613Z",
          "iopub.execute_input": "2022-10-30T17:35:14.520004Z",
          "iopub.status.idle": "2022-10-30T17:35:16.360832Z",
          "shell.execute_reply.started": "2022-10-30T17:35:14.519881Z",
          "shell.execute_reply": "2022-10-30T17:35:16.359777Z"
        },
        "trusted": true,
        "id": "Ui4eBOMI-uF4"
      },
      "execution_count": null,
      "outputs": []
    },
    {
      "cell_type": "markdown",
      "source": [
        "<h3>Read in data, add header row and display first 5 rows:</h3>"
      ],
      "metadata": {
        "id": "0Npne2Mz-uF-"
      }
    },
    {
      "cell_type": "code",
      "source": [
        "text_df = pd.read_csv('/content/website_classification.csv')\n",
        "text_df.head(5)"
      ],
      "metadata": {
        "execution": {
          "iopub.status.busy": "2022-10-30T17:35:16.362556Z",
          "iopub.execute_input": "2022-10-30T17:35:16.362815Z",
          "iopub.status.idle": "2022-10-30T17:35:16.602431Z",
          "shell.execute_reply.started": "2022-10-30T17:35:16.362781Z",
          "shell.execute_reply": "2022-10-30T17:35:16.601781Z"
        },
        "trusted": true,
        "colab": {
          "base_uri": "https://localhost:8080/",
          "height": 206
        },
        "id": "ADffDr-J-uGA",
        "outputId": "6f12e248-caf8-4257-8797-7866745ea447"
      },
      "execution_count": null,
      "outputs": [
        {
          "output_type": "execute_result",
          "data": {
            "text/plain": [
              "                                cleaned_website_text            Category\n",
              "0  primeurmagazine primeur weekly exascale superc...  Business/Corporate\n",
              "1  acc repair guy page repair amateur radio repea...  Business/Corporate\n",
              "2  home globalstar globalstar offer connectivity ...  Business/Corporate\n",
              "3  easy communications sidebar menu products serv...  Business/Corporate\n",
              "4  e phone cards e phone card cheap way talk long...  Business/Corporate"
            ],
            "text/html": [
              "\n",
              "  <div id=\"df-ed3c79a9-c48c-4e91-be23-ed423ca9ef88\" class=\"colab-df-container\">\n",
              "    <div>\n",
              "<style scoped>\n",
              "    .dataframe tbody tr th:only-of-type {\n",
              "        vertical-align: middle;\n",
              "    }\n",
              "\n",
              "    .dataframe tbody tr th {\n",
              "        vertical-align: top;\n",
              "    }\n",
              "\n",
              "    .dataframe thead th {\n",
              "        text-align: right;\n",
              "    }\n",
              "</style>\n",
              "<table border=\"1\" class=\"dataframe\">\n",
              "  <thead>\n",
              "    <tr style=\"text-align: right;\">\n",
              "      <th></th>\n",
              "      <th>cleaned_website_text</th>\n",
              "      <th>Category</th>\n",
              "    </tr>\n",
              "  </thead>\n",
              "  <tbody>\n",
              "    <tr>\n",
              "      <th>0</th>\n",
              "      <td>primeurmagazine primeur weekly exascale superc...</td>\n",
              "      <td>Business/Corporate</td>\n",
              "    </tr>\n",
              "    <tr>\n",
              "      <th>1</th>\n",
              "      <td>acc repair guy page repair amateur radio repea...</td>\n",
              "      <td>Business/Corporate</td>\n",
              "    </tr>\n",
              "    <tr>\n",
              "      <th>2</th>\n",
              "      <td>home globalstar globalstar offer connectivity ...</td>\n",
              "      <td>Business/Corporate</td>\n",
              "    </tr>\n",
              "    <tr>\n",
              "      <th>3</th>\n",
              "      <td>easy communications sidebar menu products serv...</td>\n",
              "      <td>Business/Corporate</td>\n",
              "    </tr>\n",
              "    <tr>\n",
              "      <th>4</th>\n",
              "      <td>e phone cards e phone card cheap way talk long...</td>\n",
              "      <td>Business/Corporate</td>\n",
              "    </tr>\n",
              "  </tbody>\n",
              "</table>\n",
              "</div>\n",
              "    <div class=\"colab-df-buttons\">\n",
              "\n",
              "  <div class=\"colab-df-container\">\n",
              "    <button class=\"colab-df-convert\" onclick=\"convertToInteractive('df-ed3c79a9-c48c-4e91-be23-ed423ca9ef88')\"\n",
              "            title=\"Convert this dataframe to an interactive table.\"\n",
              "            style=\"display:none;\">\n",
              "\n",
              "  <svg xmlns=\"http://www.w3.org/2000/svg\" height=\"24px\" viewBox=\"0 -960 960 960\">\n",
              "    <path d=\"M120-120v-720h720v720H120Zm60-500h600v-160H180v160Zm220 220h160v-160H400v160Zm0 220h160v-160H400v160ZM180-400h160v-160H180v160Zm440 0h160v-160H620v160ZM180-180h160v-160H180v160Zm440 0h160v-160H620v160Z\"/>\n",
              "  </svg>\n",
              "    </button>\n",
              "\n",
              "  <style>\n",
              "    .colab-df-container {\n",
              "      display:flex;\n",
              "      gap: 12px;\n",
              "    }\n",
              "\n",
              "    .colab-df-convert {\n",
              "      background-color: #E8F0FE;\n",
              "      border: none;\n",
              "      border-radius: 50%;\n",
              "      cursor: pointer;\n",
              "      display: none;\n",
              "      fill: #1967D2;\n",
              "      height: 32px;\n",
              "      padding: 0 0 0 0;\n",
              "      width: 32px;\n",
              "    }\n",
              "\n",
              "    .colab-df-convert:hover {\n",
              "      background-color: #E2EBFA;\n",
              "      box-shadow: 0px 1px 2px rgba(60, 64, 67, 0.3), 0px 1px 3px 1px rgba(60, 64, 67, 0.15);\n",
              "      fill: #174EA6;\n",
              "    }\n",
              "\n",
              "    .colab-df-buttons div {\n",
              "      margin-bottom: 4px;\n",
              "    }\n",
              "\n",
              "    [theme=dark] .colab-df-convert {\n",
              "      background-color: #3B4455;\n",
              "      fill: #D2E3FC;\n",
              "    }\n",
              "\n",
              "    [theme=dark] .colab-df-convert:hover {\n",
              "      background-color: #434B5C;\n",
              "      box-shadow: 0px 1px 3px 1px rgba(0, 0, 0, 0.15);\n",
              "      filter: drop-shadow(0px 1px 2px rgba(0, 0, 0, 0.3));\n",
              "      fill: #FFFFFF;\n",
              "    }\n",
              "  </style>\n",
              "\n",
              "    <script>\n",
              "      const buttonEl =\n",
              "        document.querySelector('#df-ed3c79a9-c48c-4e91-be23-ed423ca9ef88 button.colab-df-convert');\n",
              "      buttonEl.style.display =\n",
              "        google.colab.kernel.accessAllowed ? 'block' : 'none';\n",
              "\n",
              "      async function convertToInteractive(key) {\n",
              "        const element = document.querySelector('#df-ed3c79a9-c48c-4e91-be23-ed423ca9ef88');\n",
              "        const dataTable =\n",
              "          await google.colab.kernel.invokeFunction('convertToInteractive',\n",
              "                                                    [key], {});\n",
              "        if (!dataTable) return;\n",
              "\n",
              "        const docLinkHtml = 'Like what you see? Visit the ' +\n",
              "          '<a target=\"_blank\" href=https://colab.research.google.com/notebooks/data_table.ipynb>data table notebook</a>'\n",
              "          + ' to learn more about interactive tables.';\n",
              "        element.innerHTML = '';\n",
              "        dataTable['output_type'] = 'display_data';\n",
              "        await google.colab.output.renderOutput(dataTable, element);\n",
              "        const docLink = document.createElement('div');\n",
              "        docLink.innerHTML = docLinkHtml;\n",
              "        element.appendChild(docLink);\n",
              "      }\n",
              "    </script>\n",
              "  </div>\n",
              "\n",
              "\n",
              "<div id=\"df-591b7ea7-b524-439a-af8a-9df7b83485f3\">\n",
              "  <button class=\"colab-df-quickchart\" onclick=\"quickchart('df-591b7ea7-b524-439a-af8a-9df7b83485f3')\"\n",
              "            title=\"Suggest charts\"\n",
              "            style=\"display:none;\">\n",
              "\n",
              "<svg xmlns=\"http://www.w3.org/2000/svg\" height=\"24px\"viewBox=\"0 0 24 24\"\n",
              "     width=\"24px\">\n",
              "    <g>\n",
              "        <path d=\"M19 3H5c-1.1 0-2 .9-2 2v14c0 1.1.9 2 2 2h14c1.1 0 2-.9 2-2V5c0-1.1-.9-2-2-2zM9 17H7v-7h2v7zm4 0h-2V7h2v10zm4 0h-2v-4h2v4z\"/>\n",
              "    </g>\n",
              "</svg>\n",
              "  </button>\n",
              "\n",
              "<style>\n",
              "  .colab-df-quickchart {\n",
              "      --bg-color: #E8F0FE;\n",
              "      --fill-color: #1967D2;\n",
              "      --hover-bg-color: #E2EBFA;\n",
              "      --hover-fill-color: #174EA6;\n",
              "      --disabled-fill-color: #AAA;\n",
              "      --disabled-bg-color: #DDD;\n",
              "  }\n",
              "\n",
              "  [theme=dark] .colab-df-quickchart {\n",
              "      --bg-color: #3B4455;\n",
              "      --fill-color: #D2E3FC;\n",
              "      --hover-bg-color: #434B5C;\n",
              "      --hover-fill-color: #FFFFFF;\n",
              "      --disabled-bg-color: #3B4455;\n",
              "      --disabled-fill-color: #666;\n",
              "  }\n",
              "\n",
              "  .colab-df-quickchart {\n",
              "    background-color: var(--bg-color);\n",
              "    border: none;\n",
              "    border-radius: 50%;\n",
              "    cursor: pointer;\n",
              "    display: none;\n",
              "    fill: var(--fill-color);\n",
              "    height: 32px;\n",
              "    padding: 0;\n",
              "    width: 32px;\n",
              "  }\n",
              "\n",
              "  .colab-df-quickchart:hover {\n",
              "    background-color: var(--hover-bg-color);\n",
              "    box-shadow: 0 1px 2px rgba(60, 64, 67, 0.3), 0 1px 3px 1px rgba(60, 64, 67, 0.15);\n",
              "    fill: var(--button-hover-fill-color);\n",
              "  }\n",
              "\n",
              "  .colab-df-quickchart-complete:disabled,\n",
              "  .colab-df-quickchart-complete:disabled:hover {\n",
              "    background-color: var(--disabled-bg-color);\n",
              "    fill: var(--disabled-fill-color);\n",
              "    box-shadow: none;\n",
              "  }\n",
              "\n",
              "  .colab-df-spinner {\n",
              "    border: 2px solid var(--fill-color);\n",
              "    border-color: transparent;\n",
              "    border-bottom-color: var(--fill-color);\n",
              "    animation:\n",
              "      spin 1s steps(1) infinite;\n",
              "  }\n",
              "\n",
              "  @keyframes spin {\n",
              "    0% {\n",
              "      border-color: transparent;\n",
              "      border-bottom-color: var(--fill-color);\n",
              "      border-left-color: var(--fill-color);\n",
              "    }\n",
              "    20% {\n",
              "      border-color: transparent;\n",
              "      border-left-color: var(--fill-color);\n",
              "      border-top-color: var(--fill-color);\n",
              "    }\n",
              "    30% {\n",
              "      border-color: transparent;\n",
              "      border-left-color: var(--fill-color);\n",
              "      border-top-color: var(--fill-color);\n",
              "      border-right-color: var(--fill-color);\n",
              "    }\n",
              "    40% {\n",
              "      border-color: transparent;\n",
              "      border-right-color: var(--fill-color);\n",
              "      border-top-color: var(--fill-color);\n",
              "    }\n",
              "    60% {\n",
              "      border-color: transparent;\n",
              "      border-right-color: var(--fill-color);\n",
              "    }\n",
              "    80% {\n",
              "      border-color: transparent;\n",
              "      border-right-color: var(--fill-color);\n",
              "      border-bottom-color: var(--fill-color);\n",
              "    }\n",
              "    90% {\n",
              "      border-color: transparent;\n",
              "      border-bottom-color: var(--fill-color);\n",
              "    }\n",
              "  }\n",
              "</style>\n",
              "\n",
              "  <script>\n",
              "    async function quickchart(key) {\n",
              "      const quickchartButtonEl =\n",
              "        document.querySelector('#' + key + ' button');\n",
              "      quickchartButtonEl.disabled = true;  // To prevent multiple clicks.\n",
              "      quickchartButtonEl.classList.add('colab-df-spinner');\n",
              "      try {\n",
              "        const charts = await google.colab.kernel.invokeFunction(\n",
              "            'suggestCharts', [key], {});\n",
              "      } catch (error) {\n",
              "        console.error('Error during call to suggestCharts:', error);\n",
              "      }\n",
              "      quickchartButtonEl.classList.remove('colab-df-spinner');\n",
              "      quickchartButtonEl.classList.add('colab-df-quickchart-complete');\n",
              "    }\n",
              "    (() => {\n",
              "      let quickchartButtonEl =\n",
              "        document.querySelector('#df-591b7ea7-b524-439a-af8a-9df7b83485f3 button');\n",
              "      quickchartButtonEl.style.display =\n",
              "        google.colab.kernel.accessAllowed ? 'block' : 'none';\n",
              "    })();\n",
              "  </script>\n",
              "</div>\n",
              "\n",
              "    </div>\n",
              "  </div>\n"
            ],
            "application/vnd.google.colaboratory.intrinsic+json": {
              "type": "dataframe",
              "variable_name": "text_df",
              "summary": "{\n  \"name\": \"text_df\",\n  \"rows\": 1373,\n  \"fields\": [\n    {\n      \"column\": \"cleaned_website_text\",\n      \"properties\": {\n        \"dtype\": \"string\",\n        \"num_unique_values\": 1340,\n        \"samples\": [\n          \"evolutionary ecology research scientific journal home final editions early edition search ms preparation editors sample issue subscribe eer current issue eer recent issue rhinolophus euryale mediterranean horseshoe bat quick turnaround fully index biological abstracts biosis previews cab abstracts current contents ecology abstracts environment abstracts google scholar web science zoological record depend act like welcome world old green path open access professional journal eer focus overlap ecology evolution abstract eer article index google scholar notify new issue email link interest hendry peichel special issue yoshitaka citizen page reconciliation ecology illustrate podcast careful foot evolutionary ecology edgemont tucson az usa website design freelander design\",\n          \"photography discover need know photography famous photographer type camera photography lighting equipment photography discover need know photography famous photographer type camera photography lighting equipment section button button spruce crafts search close search diy project popular diys winter spring summer fall needlecrafts knitting crochet embroidery sewing needlepoint cross stitch quilting paper crafts paper crafting card make origami printables rubber stamp scrapbooking kid kids craft basics craft tip kid hobbie coin collecting board games antique collecting card games photography chess magic jewelry make beadwork miniature pottery woodworking candles soap good products books games crafting scrapbooking products drawing painting products editorial guidelines newsletter contact instagram pinterest facebook hobbies brief history photography camera big print photo horizontal vertical photograph spruce inbox diy project idea easy follow craft help spruce space email address sign error try megapixel affect photos photography rights license work commercial use introduction photojournalism rule thirds photography understanding copyright work flickr parts camera lens telescope photography photo print size comparisons explanations hanging size dslr point shoot cameras good photo printing services comparison photograph print sizes parts camera introduction photography exposure different part camera body basic functions camera cause green eye animal pictures photography basics dslr point shoot cameras horizontal vertical photographs megapixels affect photo control depth field f stops photography autofocus points camera use point view improve photos photography basics photography tips photography sharing display spruce craft diy project idea easy follow craft help spruce space email address sign error try follow instagram pinterest facebook diy projects needlecrafts paper crafts kids crafts hobbies beadwork buy advertise term use careers editorial guidelines privacy policy cookies contact california privacy notice spruce team spruce spruce eat spruce pet spruce crafts dotdash publishing family\",\n          \"mountain math software consulting service home consulting video book qm faq contact consulting service information speculation physics mathematics philosophy topics consulting service physics mathematics philosophy economic videos speculation book gpl free software welcome mountain math software mountain math software person consult firm specialize image signal processing object orient software engineering parallel computing web site contain information speculation physics mathematics philosophy include free draft version book summarize material publish version available purchase physics bell inequality regular discrete topology trouble physics mathematic measurement quantum mechanic faq schr\\u00f6dinger cat 6th grader digital physics emergent property discretize wave equation physics fact speculation einstein future quantum mechanic view contemporary physicist bell inequality epr update develop complete theory mathematics objective mathematic finite unbounded universe mathematical incompleteness objectively guide intrinsic value incompleteness versus platonic multiverse overview ordinal calculatory relate mathematical question physical reality generalizing kleene o foundation mathematics fom posting formalize objective mathematic recursive notation countable admissible level ordinal ordinal arithmetic calculator research tool mathematics philosophy mathematical truth mathematical infinity philosophy mathematical incompleteness objectively guide intrinsic value incompleteness versus platonic multiverse diversity limit reason justifying exploring realistic monism singularity near ready prophecy condor eagle economics excessive income inequality destroy economic growth inequality wealth income great depression long term solution disruptive income inequality banana republic computer videos mathematical infinity human destiny video transcript survive singularity video poem implication ray kurzweil singularity near erotic universe video poem erotic creative force give birth speculation alien mountain math software home consult video book qm faq contact email comment\"\n        ],\n        \"semantic_type\": \"\",\n        \"description\": \"\"\n      }\n    },\n    {\n      \"column\": \"Category\",\n      \"properties\": {\n        \"dtype\": \"category\",\n        \"num_unique_values\": 15,\n        \"samples\": [\n          \"News\",\n          \"Social Networking and Messaging\",\n          \"Business/Corporate\"\n        ],\n        \"semantic_type\": \"\",\n        \"description\": \"\"\n      }\n    }\n  ]\n}"
            }
          },
          "metadata": {},
          "execution_count": 2
        }
      ]
    },
    {
      "cell_type": "markdown",
      "source": [
        "<h3>We are deleting two unnecessary columns from the dataframe: <I>'Unnamed: 0'</I> and <I>'website_url'</I></h3>"
      ],
      "metadata": {
        "id": "wi646WCT-uGB"
      }
    },
    {
      "cell_type": "code",
      "source": [
        "# #del text_df['Unnamed: 0'], text_df['website_url']\n",
        "# text_df.head(15)"
      ],
      "metadata": {
        "execution": {
          "iopub.status.busy": "2022-10-30T17:35:16.603947Z",
          "iopub.execute_input": "2022-10-30T17:35:16.604485Z",
          "iopub.status.idle": "2022-10-30T17:35:16.622934Z",
          "shell.execute_reply.started": "2022-10-30T17:35:16.604437Z",
          "shell.execute_reply": "2022-10-30T17:35:16.621741Z"
        },
        "trusted": true,
        "id": "ogL2woRE-uGC"
      },
      "execution_count": null,
      "outputs": []
    },
    {
      "cell_type": "code",
      "source": [
        "# text_df.tail(15)"
      ],
      "metadata": {
        "id": "yZN0iXkm_IaI"
      },
      "execution_count": null,
      "outputs": []
    },
    {
      "cell_type": "markdown",
      "source": [
        "<h4>Unique categories:</h4>"
      ],
      "metadata": {
        "id": "ShMkMMr--uGC"
      }
    },
    {
      "cell_type": "code",
      "source": [
        "# categories = list(text_df['Category'].unique())\n",
        "# categories"
      ],
      "metadata": {
        "execution": {
          "iopub.status.busy": "2022-10-30T17:35:16.625979Z",
          "iopub.execute_input": "2022-10-30T17:35:16.626366Z",
          "iopub.status.idle": "2022-10-30T17:35:16.636292Z",
          "shell.execute_reply.started": "2022-10-30T17:35:16.626315Z",
          "shell.execute_reply": "2022-10-30T17:35:16.635143Z"
        },
        "trusted": true,
        "id": "WpCaAAWJ-uGD"
      },
      "execution_count": null,
      "outputs": []
    },
    {
      "cell_type": "code",
      "source": [
        "text_df.shape"
      ],
      "metadata": {
        "execution": {
          "iopub.status.busy": "2022-10-30T17:35:16.637426Z",
          "iopub.execute_input": "2022-10-30T17:35:16.637731Z",
          "iopub.status.idle": "2022-10-30T17:35:16.649769Z",
          "shell.execute_reply.started": "2022-10-30T17:35:16.637699Z",
          "shell.execute_reply": "2022-10-30T17:35:16.648904Z"
        },
        "trusted": true,
        "colab": {
          "base_uri": "https://localhost:8080/"
        },
        "id": "_XtVL4mL-uGD",
        "outputId": "cd292eb6-6bac-4028-af7f-a2baf9481370"
      },
      "execution_count": null,
      "outputs": [
        {
          "output_type": "execute_result",
          "data": {
            "text/plain": [
              "(1408, 4)"
            ]
          },
          "metadata": {},
          "execution_count": 6
        }
      ]
    },
    {
      "cell_type": "markdown",
      "source": [
        "<h4>We have 1408 rows and 4 columns</h4>"
      ],
      "metadata": {
        "id": "4DHkbVJD-uGE"
      }
    },
    {
      "cell_type": "code",
      "source": [
        "# cleaned_website_text = list(text_df['cleaned_website_text'].unique())\n",
        "# len(cleaned_website_text)"
      ],
      "metadata": {
        "execution": {
          "iopub.status.busy": "2022-10-30T17:35:16.651430Z",
          "iopub.execute_input": "2022-10-30T17:35:16.652436Z",
          "iopub.status.idle": "2022-10-30T17:35:16.685123Z",
          "shell.execute_reply.started": "2022-10-30T17:35:16.652395Z",
          "shell.execute_reply": "2022-10-30T17:35:16.684015Z"
        },
        "trusted": true,
        "id": "-2-Segc0-uGF"
      },
      "execution_count": null,
      "outputs": []
    },
    {
      "cell_type": "markdown",
      "source": [
        "<h4>There are 1375 unique rows</h4>"
      ],
      "metadata": {
        "id": "JaIJiBUA-uGG"
      }
    },
    {
      "cell_type": "markdown",
      "source": [
        "<h3>Number of rows by category</h3>"
      ],
      "metadata": {
        "id": "yfYDzTbe-uGG"
      }
    },
    {
      "cell_type": "code",
      "source": [
        "# text_df['Category'].value_counts()"
      ],
      "metadata": {
        "execution": {
          "iopub.status.busy": "2022-10-30T17:35:16.687317Z",
          "iopub.execute_input": "2022-10-30T17:35:16.687570Z",
          "iopub.status.idle": "2022-10-30T17:35:16.699518Z",
          "shell.execute_reply.started": "2022-10-30T17:35:16.687538Z",
          "shell.execute_reply": "2022-10-30T17:35:16.698476Z"
        },
        "trusted": true,
        "id": "ig08mrxs-uGG"
      },
      "execution_count": null,
      "outputs": []
    },
    {
      "cell_type": "markdown",
      "source": [
        "<h3>Number of <B><I>unique</I></B> rows by category</h3>"
      ],
      "metadata": {
        "id": "gA7LM7En-uGH"
      }
    },
    {
      "cell_type": "code",
      "source": [
        "cat_unique_val = {}\n",
        "\n",
        "for category in categories:\n",
        "    mask = text_df['Category'] == category\n",
        "    list_length = len(list(text_df[mask]['cleaned_website_text'].unique()))\n",
        "    cat_unique_val.update({category: list_length})\n",
        "\n",
        "    cat_unique_val"
      ],
      "metadata": {
        "execution": {
          "iopub.status.busy": "2022-10-30T17:35:16.701161Z",
          "iopub.execute_input": "2022-10-30T17:35:16.702381Z",
          "iopub.status.idle": "2022-10-30T17:35:16.747859Z",
          "shell.execute_reply.started": "2022-10-30T17:35:16.702343Z",
          "shell.execute_reply": "2022-10-30T17:35:16.746718Z"
        },
        "trusted": true,
        "id": "TiFzJORW-uGH"
      },
      "execution_count": null,
      "outputs": []
    },
    {
      "cell_type": "markdown",
      "source": [
        "<h3>Sort dictionary in descending order</h3>"
      ],
      "metadata": {
        "id": "Y9gbS4yv-uGH"
      }
    },
    {
      "cell_type": "code",
      "source": [
        "cat_unique_val_sorted = {}\n",
        "sorted_keys = sorted(cat_unique_val, key=cat_unique_val.get)\n",
        "\n",
        "for w in list(reversed(sorted_keys)):\n",
        "    cat_unique_val_sorted[w] = cat_unique_val[w]\n",
        "\n",
        "# cat_unique_val_sorted\n",
        "cat_unique_val_sorted"
      ],
      "metadata": {
        "execution": {
          "iopub.status.busy": "2022-10-30T17:35:16.749350Z",
          "iopub.execute_input": "2022-10-30T17:35:16.749782Z",
          "iopub.status.idle": "2022-10-30T17:35:16.758705Z",
          "shell.execute_reply.started": "2022-10-30T17:35:16.749738Z",
          "shell.execute_reply": "2022-10-30T17:35:16.757904Z"
        },
        "trusted": true,
        "colab": {
          "base_uri": "https://localhost:8080/"
        },
        "id": "b-9Hldcf-uGH",
        "outputId": "1aea86ed-9618-4264-fb2d-84d9a773b7cf"
      },
      "execution_count": null,
      "outputs": [
        {
          "output_type": "execute_result",
          "data": {
            "text/plain": [
              "{'Education': 114,\n",
              " 'Business/Corporate': 108,\n",
              " 'Travel': 106,\n",
              " 'Streaming Services': 104,\n",
              " 'E-Commerce': 101,\n",
              " 'Sports': 100,\n",
              " 'Games': 98,\n",
              " 'Food': 92,\n",
              " 'News': 92,\n",
              " 'Computers and Technology': 90,\n",
              " 'Health and Fitness': 89,\n",
              " 'Photography': 87,\n",
              " 'Law and Government': 83,\n",
              " 'Social Networking and Messaging': 79,\n",
              " 'Adult': 16,\n",
              " 'Forums': 16}"
            ]
          },
          "metadata": {},
          "execution_count": 10
        }
      ]
    },
    {
      "cell_type": "markdown",
      "source": [
        "<h3>Dropping duplicate rows from each category</h3>"
      ],
      "metadata": {
        "id": "mNpXFj48-uGI"
      }
    },
    {
      "cell_type": "code",
      "source": [
        "text_df = text_df.drop_duplicates()"
      ],
      "metadata": {
        "execution": {
          "iopub.status.busy": "2022-10-30T17:35:16.762375Z",
          "iopub.execute_input": "2022-10-30T17:35:16.762943Z",
          "iopub.status.idle": "2022-10-30T17:35:16.788921Z",
          "shell.execute_reply.started": "2022-10-30T17:35:16.762887Z",
          "shell.execute_reply": "2022-10-30T17:35:16.787816Z"
        },
        "trusted": true,
        "id": "lcO1T3m1-uGI"
      },
      "execution_count": null,
      "outputs": []
    },
    {
      "cell_type": "code",
      "source": [
        "text_df.shape"
      ],
      "metadata": {
        "execution": {
          "iopub.status.busy": "2022-10-30T17:35:16.790461Z",
          "iopub.execute_input": "2022-10-30T17:35:16.791069Z",
          "iopub.status.idle": "2022-10-30T17:35:16.797732Z",
          "shell.execute_reply.started": "2022-10-30T17:35:16.791024Z",
          "shell.execute_reply": "2022-10-30T17:35:16.796649Z"
        },
        "trusted": true,
        "colab": {
          "base_uri": "https://localhost:8080/"
        },
        "id": "gD9g4bGH-uGI",
        "outputId": "efbd97a3-7df9-4d0d-9f4f-c60ff795d28a"
      },
      "execution_count": null,
      "outputs": [
        {
          "output_type": "execute_result",
          "data": {
            "text/plain": [
              "(1408, 4)"
            ]
          },
          "metadata": {},
          "execution_count": 12
        }
      ]
    },
    {
      "cell_type": "markdown",
      "source": [
        "<h3>Text cleaning</h3>"
      ],
      "metadata": {
        "id": "2WdDozwA-uGI"
      }
    },
    {
      "cell_type": "markdown",
      "source": [
        "<p>Removing stopwords and punctuation from <B><I>\"cleaned_website_text\" column</I></B></p>"
      ],
      "metadata": {
        "id": "IJZulR0u-uGJ"
      }
    },
    {
      "cell_type": "code",
      "source": [
        "stop_words = set(stopwords.words('english'))"
      ],
      "metadata": {
        "execution": {
          "iopub.status.busy": "2022-10-30T17:35:16.799476Z",
          "iopub.execute_input": "2022-10-30T17:35:16.800036Z",
          "iopub.status.idle": "2022-10-30T17:35:16.809127Z",
          "shell.execute_reply.started": "2022-10-30T17:35:16.799990Z",
          "shell.execute_reply": "2022-10-30T17:35:16.808179Z"
        },
        "trusted": true,
        "id": "QEpheDq5-uGJ"
      },
      "execution_count": null,
      "outputs": []
    },
    {
      "cell_type": "code",
      "source": [
        "regular_punct = list(string.punctuation)"
      ],
      "metadata": {
        "execution": {
          "iopub.status.busy": "2022-10-30T17:35:16.810838Z",
          "iopub.execute_input": "2022-10-30T17:35:16.811166Z",
          "iopub.status.idle": "2022-10-30T17:35:16.822595Z",
          "shell.execute_reply.started": "2022-10-30T17:35:16.811126Z",
          "shell.execute_reply": "2022-10-30T17:35:16.821644Z"
        },
        "trusted": true,
        "id": "Hx0rap00-uGJ"
      },
      "execution_count": null,
      "outputs": []
    },
    {
      "cell_type": "markdown",
      "source": [
        "<h3>According to title text in our dataframe column is cleared, but in any case we will aplly function to remove posssible stopwords and punctuation</h3>"
      ],
      "metadata": {
        "id": "LSYKKotU-uGJ"
      }
    },
    {
      "cell_type": "code",
      "source": [
        "text_df['cleaned_website_text']"
      ],
      "metadata": {
        "execution": {
          "iopub.status.busy": "2022-10-30T17:35:16.824472Z",
          "iopub.execute_input": "2022-10-30T17:35:16.824756Z",
          "iopub.status.idle": "2022-10-30T17:35:16.837920Z",
          "shell.execute_reply.started": "2022-10-30T17:35:16.824725Z",
          "shell.execute_reply": "2022-10-30T17:35:16.837362Z"
        },
        "trusted": true,
        "colab": {
          "base_uri": "https://localhost:8080/"
        },
        "id": "i4GL73Pu-uGJ",
        "outputId": "549b9f29-29e9-4d13-b2ed-e5b20120ac9b"
      },
      "execution_count": null,
      "outputs": [
        {
          "output_type": "execute_result",
          "data": {
            "text/plain": [
              "0       official site good hotel accommodation big sav...\n",
              "1       expedia hotel book sites like use vacation wor...\n",
              "2       tripadvisor hotel book sites like previously d...\n",
              "3       cheap flights search compare flights momondo f...\n",
              "4       bot create free account create free account si...\n",
              "                              ...                        \n",
              "1403    old nude women porn mature granny sex horny ol...\n",
              "1404    bdsm cams bdsm chat bondage cams free bdsm vid...\n",
              "1405    porno dvd online european porn dvd cheap adult...\n",
              "1406    anal dream house anal dream house anal dream h...\n",
              "1407    world sex news daily sex news adult news eroti...\n",
              "Name: cleaned_website_text, Length: 1408, dtype: object"
            ]
          },
          "metadata": {},
          "execution_count": 15
        }
      ]
    },
    {
      "cell_type": "code",
      "source": [
        "def text_preprocessing(x):\n",
        "    filtered_sentence = []\n",
        "    word_tokens = word_tokenize(x)\n",
        "\n",
        "    for w in word_tokens:\n",
        "        if w not in chain(stop_words, regular_punct):\n",
        "            # we make sure that all words are written in lowercase\n",
        "            filtered_sentence.append(w.lower())\n",
        "\n",
        "    # Converting a list of strings back to a string\n",
        "    filtered_sentence = \" \".join(filtered_sentence)\n",
        "    return filtered_sentence"
      ],
      "metadata": {
        "execution": {
          "iopub.status.busy": "2022-10-30T17:35:16.839140Z",
          "iopub.execute_input": "2022-10-30T17:35:16.839464Z",
          "iopub.status.idle": "2022-10-30T17:35:16.849048Z",
          "shell.execute_reply.started": "2022-10-30T17:35:16.839410Z",
          "shell.execute_reply": "2022-10-30T17:35:16.847938Z"
        },
        "trusted": true,
        "id": "E5wvcH_Z-uGK"
      },
      "execution_count": null,
      "outputs": []
    },
    {
      "cell_type": "code",
      "source": [
        "import nltk\n",
        "nltk.download('punkt')"
      ],
      "metadata": {
        "colab": {
          "base_uri": "https://localhost:8080/"
        },
        "id": "CWtnOQN0E5bG",
        "outputId": "117846c3-10c6-4c39-9c11-fc2378c93d9e"
      },
      "execution_count": null,
      "outputs": [
        {
          "output_type": "stream",
          "name": "stderr",
          "text": [
            "[nltk_data] Downloading package punkt to /root/nltk_data...\n",
            "[nltk_data]   Unzipping tokenizers/punkt.zip.\n"
          ]
        },
        {
          "output_type": "execute_result",
          "data": {
            "text/plain": [
              "True"
            ]
          },
          "metadata": {},
          "execution_count": 8
        }
      ]
    },
    {
      "cell_type": "code",
      "source": [
        "text_df['cleaned_website_text'] = text_df['cleaned_website_text'].apply(text_preprocessing)"
      ],
      "metadata": {
        "execution": {
          "iopub.status.busy": "2022-10-30T17:35:16.850149Z",
          "iopub.execute_input": "2022-10-30T17:35:16.850442Z",
          "iopub.status.idle": "2022-10-30T17:35:28.424166Z",
          "shell.execute_reply.started": "2022-10-30T17:35:16.850409Z",
          "shell.execute_reply": "2022-10-30T17:35:28.423265Z"
        },
        "trusted": true,
        "id": "WRBLraCB-uGK"
      },
      "execution_count": null,
      "outputs": []
    },
    {
      "cell_type": "code",
      "source": [
        "text_df['cleaned_website_text']"
      ],
      "metadata": {
        "execution": {
          "iopub.status.busy": "2022-10-30T17:35:28.425635Z",
          "iopub.execute_input": "2022-10-30T17:35:28.426000Z",
          "iopub.status.idle": "2022-10-30T17:35:28.435161Z",
          "shell.execute_reply.started": "2022-10-30T17:35:28.425930Z",
          "shell.execute_reply": "2022-10-30T17:35:28.434536Z"
        },
        "trusted": true,
        "colab": {
          "base_uri": "https://localhost:8080/"
        },
        "id": "Cq-R1G22-uGK",
        "outputId": "d7a21722-45f5-4d25-c333-c14ac7ba5a98"
      },
      "execution_count": null,
      "outputs": [
        {
          "output_type": "execute_result",
          "data": {
            "text/plain": [
              "0       official site good hotel accommodation big sav...\n",
              "1       expedia hotel book sites like use vacation wor...\n",
              "2       tripadvisor hotel book sites like previously d...\n",
              "3       cheap flights search compare flights momondo f...\n",
              "4       bot create free account create free account si...\n",
              "                              ...                        \n",
              "1403    old nude women porn mature granny sex horny ol...\n",
              "1404    bdsm cams bdsm chat bondage cams free bdsm vid...\n",
              "1405    porno dvd online european porn dvd cheap adult...\n",
              "1406    anal dream house anal dream house anal dream h...\n",
              "1407    world sex news daily sex news adult news eroti...\n",
              "Name: cleaned_website_text, Length: 1408, dtype: object"
            ]
          },
          "metadata": {},
          "execution_count": 19
        }
      ]
    },
    {
      "cell_type": "markdown",
      "source": [
        "<h3>Preprocessing the data</h3>"
      ],
      "metadata": {
        "id": "0h1uVKCr-uGL"
      }
    },
    {
      "cell_type": "markdown",
      "source": [
        "<h4>One of the simplest\n",
        "methods of encoding text data is by word count: For each phrase, you count the\n",
        "number of occurrences of each word within it. In scikit-learn, this is easily done using\n",
        "CountVectorizer:</h4>"
      ],
      "metadata": {
        "id": "vy_Zljjb-uGL"
      }
    },
    {
      "cell_type": "code",
      "source": [],
      "metadata": {
        "id": "pdfET_1Q-uGL"
      },
      "execution_count": null,
      "outputs": []
    },
    {
      "cell_type": "code",
      "source": [
        "counts = feature_extraction.text.CountVectorizer()\n",
        "X = counts.fit_transform(text_df['cleaned_website_text'].values)\n",
        "X.shape"
      ],
      "metadata": {
        "execution": {
          "iopub.status.busy": "2022-10-30T17:35:28.436240Z",
          "iopub.execute_input": "2022-10-30T17:35:28.437136Z",
          "iopub.status.idle": "2022-10-30T17:35:29.446727Z",
          "shell.execute_reply.started": "2022-10-30T17:35:28.437100Z",
          "shell.execute_reply": "2022-10-30T17:35:29.445732Z"
        },
        "trusted": true,
        "colab": {
          "base_uri": "https://localhost:8080/"
        },
        "id": "ekuzoFqC-uGM",
        "outputId": "b78dab55-8521-4363-a548-d152eb53a849"
      },
      "execution_count": null,
      "outputs": [
        {
          "output_type": "execute_result",
          "data": {
            "text/plain": [
              "(1373, 55036)"
            ]
          },
          "metadata": {},
          "execution_count": 11
        }
      ]
    },
    {
      "cell_type": "code",
      "source": [
        "y = text_df['Category'].values\n",
        "y.shape"
      ],
      "metadata": {
        "execution": {
          "iopub.status.busy": "2022-10-30T17:35:29.448320Z",
          "iopub.execute_input": "2022-10-30T17:35:29.448623Z",
          "iopub.status.idle": "2022-10-30T17:35:29.455316Z",
          "shell.execute_reply.started": "2022-10-30T17:35:29.448584Z",
          "shell.execute_reply": "2022-10-30T17:35:29.453928Z"
        },
        "trusted": true,
        "id": "lCes2tkv-uGO",
        "colab": {
          "base_uri": "https://localhost:8080/"
        },
        "outputId": "3b85c22b-b884-4e6c-b94e-2584aa2c672c"
      },
      "execution_count": null,
      "outputs": [
        {
          "output_type": "execute_result",
          "data": {
            "text/plain": [
              "(1373,)"
            ]
          },
          "metadata": {},
          "execution_count": 13
        }
      ]
    },
    {
      "cell_type": "markdown",
      "source": [
        "<h4>Training a normal Bayes classifier</h4>"
      ],
      "metadata": {
        "id": "MZ7bcSqq-uGO"
      }
    },
    {
      "cell_type": "code",
      "source": [
        "X_train, X_test, y_train, y_test = ms.train_test_split(X, y, test_size=0.2, random_state=42)"
      ],
      "metadata": {
        "execution": {
          "iopub.status.busy": "2022-10-30T17:35:29.456726Z",
          "iopub.execute_input": "2022-10-30T17:35:29.456998Z",
          "iopub.status.idle": "2022-10-30T17:35:29.469060Z",
          "shell.execute_reply.started": "2022-10-30T17:35:29.456967Z",
          "shell.execute_reply": "2022-10-30T17:35:29.468177Z"
        },
        "trusted": true,
        "id": "nnkX_tqs-uGO"
      },
      "execution_count": null,
      "outputs": []
    },
    {
      "cell_type": "code",
      "source": [
        "model_naive = naive_bayes.MultinomialNB()\n",
        "model_naive.fit(X_train, y_train)"
      ],
      "metadata": {
        "execution": {
          "iopub.status.busy": "2022-10-30T17:35:29.470547Z",
          "iopub.execute_input": "2022-10-30T17:35:29.470950Z",
          "iopub.status.idle": "2022-10-30T17:35:29.545839Z",
          "shell.execute_reply.started": "2022-10-30T17:35:29.470904Z",
          "shell.execute_reply": "2022-10-30T17:35:29.545273Z"
        },
        "trusted": true,
        "colab": {
          "base_uri": "https://localhost:8080/",
          "height": 80
        },
        "id": "9TVxmkA2-uGP",
        "outputId": "2837e039-a0d5-4925-dadd-0b771ef0eebc"
      },
      "execution_count": null,
      "outputs": [
        {
          "output_type": "execute_result",
          "data": {
            "text/plain": [
              "MultinomialNB()"
            ],
            "text/html": [
              "<style>#sk-container-id-1 {\n",
              "  /* Definition of color scheme common for light and dark mode */\n",
              "  --sklearn-color-text: black;\n",
              "  --sklearn-color-line: gray;\n",
              "  /* Definition of color scheme for unfitted estimators */\n",
              "  --sklearn-color-unfitted-level-0: #fff5e6;\n",
              "  --sklearn-color-unfitted-level-1: #f6e4d2;\n",
              "  --sklearn-color-unfitted-level-2: #ffe0b3;\n",
              "  --sklearn-color-unfitted-level-3: chocolate;\n",
              "  /* Definition of color scheme for fitted estimators */\n",
              "  --sklearn-color-fitted-level-0: #f0f8ff;\n",
              "  --sklearn-color-fitted-level-1: #d4ebff;\n",
              "  --sklearn-color-fitted-level-2: #b3dbfd;\n",
              "  --sklearn-color-fitted-level-3: cornflowerblue;\n",
              "\n",
              "  /* Specific color for light theme */\n",
              "  --sklearn-color-text-on-default-background: var(--sg-text-color, var(--theme-code-foreground, var(--jp-content-font-color1, black)));\n",
              "  --sklearn-color-background: var(--sg-background-color, var(--theme-background, var(--jp-layout-color0, white)));\n",
              "  --sklearn-color-border-box: var(--sg-text-color, var(--theme-code-foreground, var(--jp-content-font-color1, black)));\n",
              "  --sklearn-color-icon: #696969;\n",
              "\n",
              "  @media (prefers-color-scheme: dark) {\n",
              "    /* Redefinition of color scheme for dark theme */\n",
              "    --sklearn-color-text-on-default-background: var(--sg-text-color, var(--theme-code-foreground, var(--jp-content-font-color1, white)));\n",
              "    --sklearn-color-background: var(--sg-background-color, var(--theme-background, var(--jp-layout-color0, #111)));\n",
              "    --sklearn-color-border-box: var(--sg-text-color, var(--theme-code-foreground, var(--jp-content-font-color1, white)));\n",
              "    --sklearn-color-icon: #878787;\n",
              "  }\n",
              "}\n",
              "\n",
              "#sk-container-id-1 {\n",
              "  color: var(--sklearn-color-text);\n",
              "}\n",
              "\n",
              "#sk-container-id-1 pre {\n",
              "  padding: 0;\n",
              "}\n",
              "\n",
              "#sk-container-id-1 input.sk-hidden--visually {\n",
              "  border: 0;\n",
              "  clip: rect(1px 1px 1px 1px);\n",
              "  clip: rect(1px, 1px, 1px, 1px);\n",
              "  height: 1px;\n",
              "  margin: -1px;\n",
              "  overflow: hidden;\n",
              "  padding: 0;\n",
              "  position: absolute;\n",
              "  width: 1px;\n",
              "}\n",
              "\n",
              "#sk-container-id-1 div.sk-dashed-wrapped {\n",
              "  border: 1px dashed var(--sklearn-color-line);\n",
              "  margin: 0 0.4em 0.5em 0.4em;\n",
              "  box-sizing: border-box;\n",
              "  padding-bottom: 0.4em;\n",
              "  background-color: var(--sklearn-color-background);\n",
              "}\n",
              "\n",
              "#sk-container-id-1 div.sk-container {\n",
              "  /* jupyter's `normalize.less` sets `[hidden] { display: none; }`\n",
              "     but bootstrap.min.css set `[hidden] { display: none !important; }`\n",
              "     so we also need the `!important` here to be able to override the\n",
              "     default hidden behavior on the sphinx rendered scikit-learn.org.\n",
              "     See: https://github.com/scikit-learn/scikit-learn/issues/21755 */\n",
              "  display: inline-block !important;\n",
              "  position: relative;\n",
              "}\n",
              "\n",
              "#sk-container-id-1 div.sk-text-repr-fallback {\n",
              "  display: none;\n",
              "}\n",
              "\n",
              "div.sk-parallel-item,\n",
              "div.sk-serial,\n",
              "div.sk-item {\n",
              "  /* draw centered vertical line to link estimators */\n",
              "  background-image: linear-gradient(var(--sklearn-color-text-on-default-background), var(--sklearn-color-text-on-default-background));\n",
              "  background-size: 2px 100%;\n",
              "  background-repeat: no-repeat;\n",
              "  background-position: center center;\n",
              "}\n",
              "\n",
              "/* Parallel-specific style estimator block */\n",
              "\n",
              "#sk-container-id-1 div.sk-parallel-item::after {\n",
              "  content: \"\";\n",
              "  width: 100%;\n",
              "  border-bottom: 2px solid var(--sklearn-color-text-on-default-background);\n",
              "  flex-grow: 1;\n",
              "}\n",
              "\n",
              "#sk-container-id-1 div.sk-parallel {\n",
              "  display: flex;\n",
              "  align-items: stretch;\n",
              "  justify-content: center;\n",
              "  background-color: var(--sklearn-color-background);\n",
              "  position: relative;\n",
              "}\n",
              "\n",
              "#sk-container-id-1 div.sk-parallel-item {\n",
              "  display: flex;\n",
              "  flex-direction: column;\n",
              "}\n",
              "\n",
              "#sk-container-id-1 div.sk-parallel-item:first-child::after {\n",
              "  align-self: flex-end;\n",
              "  width: 50%;\n",
              "}\n",
              "\n",
              "#sk-container-id-1 div.sk-parallel-item:last-child::after {\n",
              "  align-self: flex-start;\n",
              "  width: 50%;\n",
              "}\n",
              "\n",
              "#sk-container-id-1 div.sk-parallel-item:only-child::after {\n",
              "  width: 0;\n",
              "}\n",
              "\n",
              "/* Serial-specific style estimator block */\n",
              "\n",
              "#sk-container-id-1 div.sk-serial {\n",
              "  display: flex;\n",
              "  flex-direction: column;\n",
              "  align-items: center;\n",
              "  background-color: var(--sklearn-color-background);\n",
              "  padding-right: 1em;\n",
              "  padding-left: 1em;\n",
              "}\n",
              "\n",
              "\n",
              "/* Toggleable style: style used for estimator/Pipeline/ColumnTransformer box that is\n",
              "clickable and can be expanded/collapsed.\n",
              "- Pipeline and ColumnTransformer use this feature and define the default style\n",
              "- Estimators will overwrite some part of the style using the `sk-estimator` class\n",
              "*/\n",
              "\n",
              "/* Pipeline and ColumnTransformer style (default) */\n",
              "\n",
              "#sk-container-id-1 div.sk-toggleable {\n",
              "  /* Default theme specific background. It is overwritten whether we have a\n",
              "  specific estimator or a Pipeline/ColumnTransformer */\n",
              "  background-color: var(--sklearn-color-background);\n",
              "}\n",
              "\n",
              "/* Toggleable label */\n",
              "#sk-container-id-1 label.sk-toggleable__label {\n",
              "  cursor: pointer;\n",
              "  display: block;\n",
              "  width: 100%;\n",
              "  margin-bottom: 0;\n",
              "  padding: 0.5em;\n",
              "  box-sizing: border-box;\n",
              "  text-align: center;\n",
              "}\n",
              "\n",
              "#sk-container-id-1 label.sk-toggleable__label-arrow:before {\n",
              "  /* Arrow on the left of the label */\n",
              "  content: \"▸\";\n",
              "  float: left;\n",
              "  margin-right: 0.25em;\n",
              "  color: var(--sklearn-color-icon);\n",
              "}\n",
              "\n",
              "#sk-container-id-1 label.sk-toggleable__label-arrow:hover:before {\n",
              "  color: var(--sklearn-color-text);\n",
              "}\n",
              "\n",
              "/* Toggleable content - dropdown */\n",
              "\n",
              "#sk-container-id-1 div.sk-toggleable__content {\n",
              "  max-height: 0;\n",
              "  max-width: 0;\n",
              "  overflow: hidden;\n",
              "  text-align: left;\n",
              "  /* unfitted */\n",
              "  background-color: var(--sklearn-color-unfitted-level-0);\n",
              "}\n",
              "\n",
              "#sk-container-id-1 div.sk-toggleable__content.fitted {\n",
              "  /* fitted */\n",
              "  background-color: var(--sklearn-color-fitted-level-0);\n",
              "}\n",
              "\n",
              "#sk-container-id-1 div.sk-toggleable__content pre {\n",
              "  margin: 0.2em;\n",
              "  border-radius: 0.25em;\n",
              "  color: var(--sklearn-color-text);\n",
              "  /* unfitted */\n",
              "  background-color: var(--sklearn-color-unfitted-level-0);\n",
              "}\n",
              "\n",
              "#sk-container-id-1 div.sk-toggleable__content.fitted pre {\n",
              "  /* unfitted */\n",
              "  background-color: var(--sklearn-color-fitted-level-0);\n",
              "}\n",
              "\n",
              "#sk-container-id-1 input.sk-toggleable__control:checked~div.sk-toggleable__content {\n",
              "  /* Expand drop-down */\n",
              "  max-height: 200px;\n",
              "  max-width: 100%;\n",
              "  overflow: auto;\n",
              "}\n",
              "\n",
              "#sk-container-id-1 input.sk-toggleable__control:checked~label.sk-toggleable__label-arrow:before {\n",
              "  content: \"▾\";\n",
              "}\n",
              "\n",
              "/* Pipeline/ColumnTransformer-specific style */\n",
              "\n",
              "#sk-container-id-1 div.sk-label input.sk-toggleable__control:checked~label.sk-toggleable__label {\n",
              "  color: var(--sklearn-color-text);\n",
              "  background-color: var(--sklearn-color-unfitted-level-2);\n",
              "}\n",
              "\n",
              "#sk-container-id-1 div.sk-label.fitted input.sk-toggleable__control:checked~label.sk-toggleable__label {\n",
              "  background-color: var(--sklearn-color-fitted-level-2);\n",
              "}\n",
              "\n",
              "/* Estimator-specific style */\n",
              "\n",
              "/* Colorize estimator box */\n",
              "#sk-container-id-1 div.sk-estimator input.sk-toggleable__control:checked~label.sk-toggleable__label {\n",
              "  /* unfitted */\n",
              "  background-color: var(--sklearn-color-unfitted-level-2);\n",
              "}\n",
              "\n",
              "#sk-container-id-1 div.sk-estimator.fitted input.sk-toggleable__control:checked~label.sk-toggleable__label {\n",
              "  /* fitted */\n",
              "  background-color: var(--sklearn-color-fitted-level-2);\n",
              "}\n",
              "\n",
              "#sk-container-id-1 div.sk-label label.sk-toggleable__label,\n",
              "#sk-container-id-1 div.sk-label label {\n",
              "  /* The background is the default theme color */\n",
              "  color: var(--sklearn-color-text-on-default-background);\n",
              "}\n",
              "\n",
              "/* On hover, darken the color of the background */\n",
              "#sk-container-id-1 div.sk-label:hover label.sk-toggleable__label {\n",
              "  color: var(--sklearn-color-text);\n",
              "  background-color: var(--sklearn-color-unfitted-level-2);\n",
              "}\n",
              "\n",
              "/* Label box, darken color on hover, fitted */\n",
              "#sk-container-id-1 div.sk-label.fitted:hover label.sk-toggleable__label.fitted {\n",
              "  color: var(--sklearn-color-text);\n",
              "  background-color: var(--sklearn-color-fitted-level-2);\n",
              "}\n",
              "\n",
              "/* Estimator label */\n",
              "\n",
              "#sk-container-id-1 div.sk-label label {\n",
              "  font-family: monospace;\n",
              "  font-weight: bold;\n",
              "  display: inline-block;\n",
              "  line-height: 1.2em;\n",
              "}\n",
              "\n",
              "#sk-container-id-1 div.sk-label-container {\n",
              "  text-align: center;\n",
              "}\n",
              "\n",
              "/* Estimator-specific */\n",
              "#sk-container-id-1 div.sk-estimator {\n",
              "  font-family: monospace;\n",
              "  border: 1px dotted var(--sklearn-color-border-box);\n",
              "  border-radius: 0.25em;\n",
              "  box-sizing: border-box;\n",
              "  margin-bottom: 0.5em;\n",
              "  /* unfitted */\n",
              "  background-color: var(--sklearn-color-unfitted-level-0);\n",
              "}\n",
              "\n",
              "#sk-container-id-1 div.sk-estimator.fitted {\n",
              "  /* fitted */\n",
              "  background-color: var(--sklearn-color-fitted-level-0);\n",
              "}\n",
              "\n",
              "/* on hover */\n",
              "#sk-container-id-1 div.sk-estimator:hover {\n",
              "  /* unfitted */\n",
              "  background-color: var(--sklearn-color-unfitted-level-2);\n",
              "}\n",
              "\n",
              "#sk-container-id-1 div.sk-estimator.fitted:hover {\n",
              "  /* fitted */\n",
              "  background-color: var(--sklearn-color-fitted-level-2);\n",
              "}\n",
              "\n",
              "/* Specification for estimator info (e.g. \"i\" and \"?\") */\n",
              "\n",
              "/* Common style for \"i\" and \"?\" */\n",
              "\n",
              ".sk-estimator-doc-link,\n",
              "a:link.sk-estimator-doc-link,\n",
              "a:visited.sk-estimator-doc-link {\n",
              "  float: right;\n",
              "  font-size: smaller;\n",
              "  line-height: 1em;\n",
              "  font-family: monospace;\n",
              "  background-color: var(--sklearn-color-background);\n",
              "  border-radius: 1em;\n",
              "  height: 1em;\n",
              "  width: 1em;\n",
              "  text-decoration: none !important;\n",
              "  margin-left: 1ex;\n",
              "  /* unfitted */\n",
              "  border: var(--sklearn-color-unfitted-level-1) 1pt solid;\n",
              "  color: var(--sklearn-color-unfitted-level-1);\n",
              "}\n",
              "\n",
              ".sk-estimator-doc-link.fitted,\n",
              "a:link.sk-estimator-doc-link.fitted,\n",
              "a:visited.sk-estimator-doc-link.fitted {\n",
              "  /* fitted */\n",
              "  border: var(--sklearn-color-fitted-level-1) 1pt solid;\n",
              "  color: var(--sklearn-color-fitted-level-1);\n",
              "}\n",
              "\n",
              "/* On hover */\n",
              "div.sk-estimator:hover .sk-estimator-doc-link:hover,\n",
              ".sk-estimator-doc-link:hover,\n",
              "div.sk-label-container:hover .sk-estimator-doc-link:hover,\n",
              ".sk-estimator-doc-link:hover {\n",
              "  /* unfitted */\n",
              "  background-color: var(--sklearn-color-unfitted-level-3);\n",
              "  color: var(--sklearn-color-background);\n",
              "  text-decoration: none;\n",
              "}\n",
              "\n",
              "div.sk-estimator.fitted:hover .sk-estimator-doc-link.fitted:hover,\n",
              ".sk-estimator-doc-link.fitted:hover,\n",
              "div.sk-label-container:hover .sk-estimator-doc-link.fitted:hover,\n",
              ".sk-estimator-doc-link.fitted:hover {\n",
              "  /* fitted */\n",
              "  background-color: var(--sklearn-color-fitted-level-3);\n",
              "  color: var(--sklearn-color-background);\n",
              "  text-decoration: none;\n",
              "}\n",
              "\n",
              "/* Span, style for the box shown on hovering the info icon */\n",
              ".sk-estimator-doc-link span {\n",
              "  display: none;\n",
              "  z-index: 9999;\n",
              "  position: relative;\n",
              "  font-weight: normal;\n",
              "  right: .2ex;\n",
              "  padding: .5ex;\n",
              "  margin: .5ex;\n",
              "  width: min-content;\n",
              "  min-width: 20ex;\n",
              "  max-width: 50ex;\n",
              "  color: var(--sklearn-color-text);\n",
              "  box-shadow: 2pt 2pt 4pt #999;\n",
              "  /* unfitted */\n",
              "  background: var(--sklearn-color-unfitted-level-0);\n",
              "  border: .5pt solid var(--sklearn-color-unfitted-level-3);\n",
              "}\n",
              "\n",
              ".sk-estimator-doc-link.fitted span {\n",
              "  /* fitted */\n",
              "  background: var(--sklearn-color-fitted-level-0);\n",
              "  border: var(--sklearn-color-fitted-level-3);\n",
              "}\n",
              "\n",
              ".sk-estimator-doc-link:hover span {\n",
              "  display: block;\n",
              "}\n",
              "\n",
              "/* \"?\"-specific style due to the `<a>` HTML tag */\n",
              "\n",
              "#sk-container-id-1 a.estimator_doc_link {\n",
              "  float: right;\n",
              "  font-size: 1rem;\n",
              "  line-height: 1em;\n",
              "  font-family: monospace;\n",
              "  background-color: var(--sklearn-color-background);\n",
              "  border-radius: 1rem;\n",
              "  height: 1rem;\n",
              "  width: 1rem;\n",
              "  text-decoration: none;\n",
              "  /* unfitted */\n",
              "  color: var(--sklearn-color-unfitted-level-1);\n",
              "  border: var(--sklearn-color-unfitted-level-1) 1pt solid;\n",
              "}\n",
              "\n",
              "#sk-container-id-1 a.estimator_doc_link.fitted {\n",
              "  /* fitted */\n",
              "  border: var(--sklearn-color-fitted-level-1) 1pt solid;\n",
              "  color: var(--sklearn-color-fitted-level-1);\n",
              "}\n",
              "\n",
              "/* On hover */\n",
              "#sk-container-id-1 a.estimator_doc_link:hover {\n",
              "  /* unfitted */\n",
              "  background-color: var(--sklearn-color-unfitted-level-3);\n",
              "  color: var(--sklearn-color-background);\n",
              "  text-decoration: none;\n",
              "}\n",
              "\n",
              "#sk-container-id-1 a.estimator_doc_link.fitted:hover {\n",
              "  /* fitted */\n",
              "  background-color: var(--sklearn-color-fitted-level-3);\n",
              "}\n",
              "</style><div id=\"sk-container-id-1\" class=\"sk-top-container\"><div class=\"sk-text-repr-fallback\"><pre>MultinomialNB()</pre><b>In a Jupyter environment, please rerun this cell to show the HTML representation or trust the notebook. <br />On GitHub, the HTML representation is unable to render, please try loading this page with nbviewer.org.</b></div><div class=\"sk-container\" hidden><div class=\"sk-item\"><div class=\"sk-estimator fitted sk-toggleable\"><input class=\"sk-toggleable__control sk-hidden--visually\" id=\"sk-estimator-id-1\" type=\"checkbox\" checked><label for=\"sk-estimator-id-1\" class=\"sk-toggleable__label fitted sk-toggleable__label-arrow fitted\">&nbsp;&nbsp;MultinomialNB<a class=\"sk-estimator-doc-link fitted\" rel=\"noreferrer\" target=\"_blank\" href=\"https://scikit-learn.org/1.5/modules/generated/sklearn.naive_bayes.MultinomialNB.html\">?<span>Documentation for MultinomialNB</span></a><span class=\"sk-estimator-doc-link fitted\">i<span>Fitted</span></span></label><div class=\"sk-toggleable__content fitted\"><pre>MultinomialNB()</pre></div> </div></div></div></div>"
            ]
          },
          "metadata": {},
          "execution_count": 15
        }
      ]
    },
    {
      "cell_type": "code",
      "source": [
        "pickle.dump(model_naive, open('/content/Model Save Folder/model_save.pkl', 'wb'))"
      ],
      "metadata": {
        "id": "n5bwkstOtFGC"
      },
      "execution_count": null,
      "outputs": []
    },
    {
      "cell_type": "code",
      "source": [
        "pickled_model = pickle.load(open('model_save.pkl', 'rb'))"
      ],
      "metadata": {
        "id": "x6OlPjmCtjH_"
      },
      "execution_count": null,
      "outputs": []
    },
    {
      "cell_type": "code",
      "source": [
        "#clf = load('filename.joblib')"
      ],
      "metadata": {
        "id": "4uZZlUXktjW2"
      },
      "execution_count": null,
      "outputs": []
    },
    {
      "cell_type": "code",
      "source": [
        "model_naive.score(X_train, y_train)"
      ],
      "metadata": {
        "execution": {
          "iopub.status.busy": "2022-10-30T17:35:29.547161Z",
          "iopub.execute_input": "2022-10-30T17:35:29.547630Z",
          "iopub.status.idle": "2022-10-30T17:35:29.571546Z",
          "shell.execute_reply.started": "2022-10-30T17:35:29.547597Z",
          "shell.execute_reply": "2022-10-30T17:35:29.570594Z"
        },
        "trusted": true,
        "colab": {
          "base_uri": "https://localhost:8080/"
        },
        "id": "RWpWZAxN-uGP",
        "outputId": "676053ee-03e6-46e0-ca18-f999289561e1"
      },
      "execution_count": null,
      "outputs": [
        {
          "output_type": "execute_result",
          "data": {
            "text/plain": [
              "0.9808743169398907"
            ]
          },
          "metadata": {},
          "execution_count": 16
        }
      ]
    },
    {
      "cell_type": "code",
      "source": [
        "pickled_model.score(X_test, y_test)"
      ],
      "metadata": {
        "execution": {
          "iopub.status.busy": "2022-10-30T17:35:29.572960Z",
          "iopub.execute_input": "2022-10-30T17:35:29.573201Z",
          "iopub.status.idle": "2022-10-30T17:35:29.585741Z",
          "shell.execute_reply.started": "2022-10-30T17:35:29.573171Z",
          "shell.execute_reply": "2022-10-30T17:35:29.584779Z"
        },
        "trusted": true,
        "colab": {
          "base_uri": "https://localhost:8080/"
        },
        "id": "j1LEMliw-uGQ",
        "outputId": "1b4addfb-ddcb-4605-9b54-55dfa3b85b6a"
      },
      "execution_count": null,
      "outputs": [
        {
          "output_type": "execute_result",
          "data": {
            "text/plain": [
              "0.875886524822695"
            ]
          },
          "metadata": {},
          "execution_count": 29
        }
      ]
    },
    {
      "cell_type": "markdown",
      "source": [
        "<h4><B><I>We got 88% accuracy on the test set</I></B></h4>"
      ],
      "metadata": {
        "id": "azdiHxo3-uGQ"
      }
    },
    {
      "cell_type": "markdown",
      "source": [
        "<h4>Confusion matrix</h4>"
      ],
      "metadata": {
        "id": "H8FIl48W-uGQ"
      }
    },
    {
      "cell_type": "code",
      "source": [
        "y_pred = pickled_model.predict(X_test)\n",
        "confusion_matrix(y_test, y_pred)"
      ],
      "metadata": {
        "execution": {
          "iopub.status.busy": "2022-10-30T17:35:29.586840Z",
          "iopub.execute_input": "2022-10-30T17:35:29.587062Z",
          "iopub.status.idle": "2022-10-30T17:35:29.604570Z",
          "shell.execute_reply.started": "2022-10-30T17:35:29.587035Z",
          "shell.execute_reply": "2022-10-30T17:35:29.601659Z"
        },
        "trusted": true,
        "colab": {
          "base_uri": "https://localhost:8080/"
        },
        "id": "jxCXrSmx-uGQ",
        "outputId": "01db93be-bbad-4cbb-bd16-140ac15ed31c"
      },
      "execution_count": null,
      "outputs": [
        {
          "output_type": "execute_result",
          "data": {
            "text/plain": [
              "array([[ 4,  0,  0,  0,  0,  0,  0,  0,  0,  0,  0,  0,  0,  0,  0,  0],\n",
              "       [ 0, 13,  0,  1,  1,  0,  0,  0,  0,  0,  2,  0,  0,  0,  0,  0],\n",
              "       [ 0,  2, 14,  0,  1,  0,  0,  1,  0,  0,  1,  0,  0,  0,  0,  0],\n",
              "       [ 0,  0,  0, 22,  0,  0,  0,  0,  0,  0,  0,  0,  0,  0,  0,  0],\n",
              "       [ 0,  4,  0,  0, 22,  0,  0,  0,  1,  0,  0,  0,  0,  0,  0,  0],\n",
              "       [ 0,  0,  0,  0,  0, 14,  0,  0,  0,  0,  1,  0,  0,  1,  0,  1],\n",
              "       [ 0,  0,  2,  0,  0,  0,  0,  0,  0,  0,  0,  0,  0,  0,  0,  0],\n",
              "       [ 0,  0,  1,  1,  0,  0,  0, 18,  0,  0,  1,  0,  0,  0,  0,  1],\n",
              "       [ 0,  0,  0,  0,  0,  0,  0,  0, 13,  0,  0,  0,  0,  0,  0,  0],\n",
              "       [ 0,  0,  0,  0,  0,  0,  0,  0,  0, 21,  2,  0,  0,  0,  0,  0],\n",
              "       [ 0,  0,  0,  0,  0,  0,  0,  0,  0,  0, 17,  0,  0,  0,  1,  0],\n",
              "       [ 0,  0,  0,  0,  0,  0,  0,  0,  0,  0,  2, 18,  0,  0,  0,  0],\n",
              "       [ 0,  0,  1,  0,  0,  1,  0,  0,  0,  0,  0,  1, 14,  0,  1,  0],\n",
              "       [ 0,  1,  0,  0,  0,  0,  0,  0,  0,  0,  0,  0,  0, 22,  0,  0],\n",
              "       [ 0,  0,  0,  0,  0,  0,  0,  0,  0,  0,  2,  0,  0,  0, 16,  0],\n",
              "       [ 0,  0,  0,  0,  0,  0,  0,  0,  0,  0,  0,  0,  0,  0,  0, 19]])"
            ]
          },
          "metadata": {},
          "execution_count": 30
        }
      ]
    },
    {
      "cell_type": "code",
      "source": [
        "X_test[0]"
      ],
      "metadata": {
        "colab": {
          "base_uri": "https://localhost:8080/"
        },
        "id": "XOo7cIN8D-D5",
        "outputId": "edee86d5-0d58-4b20-afd8-ac588b1e5635"
      },
      "execution_count": null,
      "outputs": [
        {
          "output_type": "execute_result",
          "data": {
            "text/plain": [
              "<1x59995 sparse matrix of type '<class 'numpy.int64'>'\n",
              "\twith 117 stored elements in Compressed Sparse Row format>"
            ]
          },
          "metadata": {},
          "execution_count": 40
        }
      ]
    },
    {
      "cell_type": "code",
      "source": [
        "target_names = categories\n",
        "print(classification_report(y_test, y_pred, target_names=target_names))"
      ],
      "metadata": {
        "colab": {
          "base_uri": "https://localhost:8080/"
        },
        "id": "LiB65F94Eq52",
        "outputId": "034369ce-2e0f-409a-f957-1180d293f187"
      },
      "execution_count": null,
      "outputs": [
        {
          "output_type": "stream",
          "name": "stdout",
          "text": [
            "                                 precision    recall  f1-score   support\n",
            "\n",
            "                         Travel       1.00      1.00      1.00         4\n",
            "Social Networking and Messaging       0.65      0.76      0.70        17\n",
            "                           News       0.78      0.74      0.76        19\n",
            "             Streaming Services       0.92      1.00      0.96        22\n",
            "                         Sports       0.92      0.81      0.86        27\n",
            "                    Photography       0.93      0.82      0.87        17\n",
            "             Law and Government       0.00      0.00      0.00         2\n",
            "             Health and Fitness       0.95      0.82      0.88        22\n",
            "                          Games       0.93      1.00      0.96        13\n",
            "                     E-Commerce       1.00      0.91      0.95        23\n",
            "                         Forums       0.61      0.94      0.74        18\n",
            "                           Food       0.95      0.90      0.92        20\n",
            "                      Education       1.00      0.78      0.88        18\n",
            "       Computers and Technology       0.96      0.96      0.96        23\n",
            "             Business/Corporate       0.89      0.89      0.89        18\n",
            "                          Adult       0.90      1.00      0.95        19\n",
            "\n",
            "                       accuracy                           0.88       282\n",
            "                      macro avg       0.84      0.83      0.83       282\n",
            "                   weighted avg       0.89      0.88      0.88       282\n",
            "\n"
          ]
        },
        {
          "output_type": "stream",
          "name": "stderr",
          "text": [
            "/usr/local/lib/python3.10/dist-packages/sklearn/metrics/_classification.py:1344: UndefinedMetricWarning: Precision and F-score are ill-defined and being set to 0.0 in labels with no predicted samples. Use `zero_division` parameter to control this behavior.\n",
            "  _warn_prf(average, modifier, msg_start, len(result))\n",
            "/usr/local/lib/python3.10/dist-packages/sklearn/metrics/_classification.py:1344: UndefinedMetricWarning: Precision and F-score are ill-defined and being set to 0.0 in labels with no predicted samples. Use `zero_division` parameter to control this behavior.\n",
            "  _warn_prf(average, modifier, msg_start, len(result))\n",
            "/usr/local/lib/python3.10/dist-packages/sklearn/metrics/_classification.py:1344: UndefinedMetricWarning: Precision and F-score are ill-defined and being set to 0.0 in labels with no predicted samples. Use `zero_division` parameter to control this behavior.\n",
            "  _warn_prf(average, modifier, msg_start, len(result))\n"
          ]
        }
      ]
    },
    {
      "cell_type": "code",
      "source": [
        "mat = confusion_matrix(y_test, pickled_model.predict(X_test))\n",
        "plt.figure(figsize=(18,12))\n",
        "sns.heatmap(mat.T, square=True, annot=True, fmt='d', cbar=False,\n",
        "            xticklabels=categories,\n",
        "            yticklabels=categories\n",
        "           )\n",
        "plt.xlabel('true label')\n",
        "plt.ylabel('predicted label');"
      ],
      "metadata": {
        "execution": {
          "iopub.status.busy": "2022-10-30T17:35:29.607736Z",
          "iopub.execute_input": "2022-10-30T17:35:29.608759Z",
          "iopub.status.idle": "2022-10-30T17:35:31.072714Z",
          "shell.execute_reply.started": "2022-10-30T17:35:29.608721Z",
          "shell.execute_reply": "2022-10-30T17:35:31.071736Z"
        },
        "trusted": true,
        "colab": {
          "base_uri": "https://localhost:8080/",
          "height": 1000
        },
        "id": "Z1y9DSu9-uGQ",
        "outputId": "37dd0e86-056e-4661-8f6d-f5784b3fc7d8"
      },
      "execution_count": null,
      "outputs": [
        {
          "output_type": "display_data",
          "data": {
            "text/plain": [
              "<Figure size 1800x1200 with 1 Axes>"
            ],
            "image/png": "[encoded data removed]"
          },
          "metadata": {}
        }
      ]
    },
    {
      "cell_type": "code",
      "source": [
        "#!pip install gradio"
      ],
      "metadata": {
        "id": "OzYWMq-puxn_"
      },
      "execution_count": null,
      "outputs": []
    },
    {
      "cell_type": "code",
      "source": [
        "import gradio as gr\n",
        "\n",
        "def echo(input_text):\n",
        "    return input_text\n",
        "\n",
        "iface = gr.Interface(fn=echo, inputs=\"text\", outputs=\"text\", title=\"Echo String\")\n",
        "iface.launch()\n"
      ],
      "metadata": {
        "id": "nmYMpEvNuuxc"
      },
      "execution_count": null,
      "outputs": []
    }
  ]
}